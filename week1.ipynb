{
  "nbformat": 4,
  "nbformat_minor": 0,
  "metadata": {
    "colab": {
      "name": "Untitled0.ipynb",
      "version": "0.3.2",
      "provenance": [],
      "collapsed_sections": [],
      "include_colab_link": true
    },
    "kernelspec": {
      "name": "python3",
      "display_name": "Python 3"
    }
  },
  "cells": [
    {
      "cell_type": "markdown",
      "metadata": {
        "id": "view-in-github",
        "colab_type": "text"
      },
      "source": [
        "<a href=\"https://colab.research.google.com/github/bhashkar1/Flask-SQLAlchemy/blob/master/week1.ipynb\" target=\"_parent\"><img src=\"https://colab.research.google.com/assets/colab-badge.svg\" alt=\"Open In Colab\"/></a>"
      ]
    },
    {
      "cell_type": "code",
      "metadata": {
        "id": "iPu5sjSC-s8J",
        "colab_type": "code",
        "outputId": "d209f30b-fc9a-4b7b-eca6-b97669aa8144",
        "colab": {
          "base_uri": "https://localhost:8080/",
          "height": 35
        }
      },
      "source": [
        "def f(m,n):\n",
        "  ans = 1\n",
        "  count = 0\n",
        "  while(ans <= m):\n",
        "    count += 1\n",
        "    ans = ans*n\n",
        "  return(count)\n",
        "print(f(250,2))\n",
        "    "
      ],
      "execution_count": 3,
      "outputs": [
        {
          "output_type": "stream",
          "text": [
            "8\n"
          ],
          "name": "stdout"
        }
      ]
    },
    {
      "cell_type": "code",
      "metadata": {
        "id": "2b8na88NANgY",
        "colab_type": "code",
        "colab": {
          "base_uri": "https://localhost:8080/",
          "height": 35
        },
        "outputId": "73825ab6-2911-4caa-ffbf-edb45dbda755"
      },
      "source": [
        "def composite(m):\n",
        "  if m == 1:\n",
        "    return False\n",
        "  if m == 3:\n",
        "    return False\n",
        "  if(m%2 == 0 or m%3 == 0):\n",
        "    return True\n",
        "  else:\n",
        "    return False\n",
        "m = 5\n",
        "i = 0\n",
        "j = 0\n",
        "k = 0\n",
        "while(m >= 0):\n",
        "  m = m-1\n",
        "  k = k+m\n",
        "  if(composite(m)):\n",
        "    i = i+m\n",
        "  else:\n",
        "    j = j-m\n",
        "if(k == i - j):\n",
        "  print(\"True\")\n",
        "else:\n",
        "  print(\"False\")\n"
      ],
      "execution_count": 17,
      "outputs": [
        {
          "output_type": "stream",
          "text": [
            "True\n"
          ],
          "name": "stdout"
        }
      ]
    }
  ]
}